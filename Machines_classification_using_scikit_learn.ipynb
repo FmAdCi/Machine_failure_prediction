{
 "cells": [
  {
   "cell_type": "markdown",
   "id": "0ef630e2-e0b1-490c-b0e8-9b7f96333e7f",
   "metadata": {
    "canvas": {
     "comments": [],
     "componentType": "CodeCell",
     "copiedOriginId": null,
     "diskcache": false,
     "headerColor": "transparent",
     "id": "27f08ec9-e075-45c7-90dc-7a249541982f",
     "isComponent": false,
     "name": "",
     "parents": []
    }
   },
   "source": [
    "# Machine Failure Prediction #"
   ]
  },
  {
   "cell_type": "markdown",
   "id": "68ef05d2-9616-4c89-a131-2c38927dd17c",
   "metadata": {
    "canvas": {
     "comments": [],
     "componentType": "CodeCell",
     "copiedOriginId": null,
     "diskcache": false,
     "headerColor": "transparent",
     "id": "7538499f-d049-475d-a2b8-735cbc83ba40",
     "isComponent": false,
     "name": "",
     "parents": []
    }
   },
   "source": [
    ">### Date :  23 Jan 24 ###"
   ]
  },
  {
   "cell_type": "markdown",
   "id": "3003e004-5643-4f5c-b741-345988d6b818",
   "metadata": {
    "canvas": {
     "comments": [],
     "componentType": "CodeCell",
     "copiedOriginId": null,
     "diskcache": false,
     "headerColor": "transparent",
     "id": "38ed09e9-acf6-43a6-80fa-22ea942c1d5d",
     "isComponent": false,
     "name": "",
     "parents": []
    }
   },
   "source": [
    "## Sequence ##\n",
    "1. Problem identification\n",
    "2. Data preparation/ Features handling\n",
    "3. Model Selection\n",
    "4. Evaluation\n",
    "5. Fiting/ evaluation\n",
    "6. Experimentation\n",
    "7. deploy"
   ]
  },
  {
   "cell_type": "markdown",
   "id": "3df369a6-f3e2-48e0-8ac9-6d8dddb9a565",
   "metadata": {
    "canvas": {
     "comments": [],
     "componentType": "CodeCell",
     "copiedOriginId": null,
     "diskcache": false,
     "headerColor": "transparent",
     "id": "5e9b7587-cfca-4344-a9a1-fccd4174aa70",
     "isComponent": false,
     "name": "",
     "parents": []
    }
   },
   "source": [
    "### 1. The Give Dataset is Machine Failure Prediction Problem.  ###"
   ]
  },
  {
   "cell_type": "markdown",
   "id": "38635c52-b235-4489-8e05-2daeccf588ef",
   "metadata": {
    "canvas": {
     "comments": [],
     "componentType": "CodeCell",
     "copiedOriginId": null,
     "diskcache": false,
     "headerColor": "transparent",
     "id": "26d0e172-9091-41b0-9f1d-0e0f8882536c",
     "isComponent": false,
     "name": "",
     "parents": []
    }
   },
   "source": [
    "It is a Classification Problem. \n",
    "\n",
    "Binary class prediction i.e 0 or 1 \n",
    "* 0 - Machine is Operational.\n",
    "* 1 - Machine has Failed\n",
    "\n",
    "Machine failure i.e 1 or not failed i.e 0, needs to be  predicted based on pattern available in data"
   ]
  },
  {
   "cell_type": "markdown",
   "id": "127ffe5f-1224-4b21-b648-4310be54d016",
   "metadata": {
    "canvas": {
     "comments": [],
     "componentType": "CodeCell",
     "copiedOriginId": null,
     "diskcache": false,
     "headerColor": "transparent",
     "id": "94126c53-64c8-4e94-b39e-26c54d22241c",
     "isComponent": false,
     "name": "",
     "parents": []
    }
   },
   "source": [
    "### 2. Data processing ####"
   ]
  },
  {
   "cell_type": "code",
   "execution_count": 82,
   "id": "af471d64-68a5-406d-9286-6e732b37a79b",
   "metadata": {
    "canvas": {
     "comments": [],
     "componentType": "CodeCell",
     "copiedOriginId": null,
     "diskcache": false,
     "headerColor": "transparent",
     "id": "36e983df-753d-4938-a098-a558fb2b6734",
     "isComponent": false,
     "name": "",
     "parents": []
    }
   },
   "outputs": [
    {
     "data": {
      "text/html": [
       "<div>\n",
       "<style scoped>\n",
       "    .dataframe tbody tr th:only-of-type {\n",
       "        vertical-align: middle;\n",
       "    }\n",
       "\n",
       "    .dataframe tbody tr th {\n",
       "        vertical-align: top;\n",
       "    }\n",
       "\n",
       "    .dataframe thead th {\n",
       "        text-align: right;\n",
       "    }\n",
       "</style>\n",
       "<table border=\"1\" class=\"dataframe\">\n",
       "  <thead>\n",
       "    <tr style=\"text-align: right;\">\n",
       "      <th></th>\n",
       "      <th>Machine Tyoe</th>\n",
       "      <th>Air te1perature [K]</th>\n",
       "      <th>Process temperature [K]</th>\n",
       "      <th>Rotational speed [rp1]</th>\n",
       "      <th>Torque [N1]</th>\n",
       "      <th>Tool wear [1in]</th>\n",
       "      <th>Machine Failure</th>\n",
       "    </tr>\n",
       "  </thead>\n",
       "  <tbody>\n",
       "    <tr>\n",
       "      <th>0</th>\n",
       "      <td>0</td>\n",
       "      <td>297.9</td>\n",
       "      <td>309.8</td>\n",
       "      <td>1336</td>\n",
       "      <td>71.6</td>\n",
       "      <td>31.0</td>\n",
       "      <td>1</td>\n",
       "    </tr>\n",
       "    <tr>\n",
       "      <th>1</th>\n",
       "      <td>0</td>\n",
       "      <td>298.9</td>\n",
       "      <td>309.0</td>\n",
       "      <td>1410</td>\n",
       "      <td>65.7</td>\n",
       "      <td>191.0</td>\n",
       "      <td>1</td>\n",
       "    </tr>\n",
       "    <tr>\n",
       "      <th>2</th>\n",
       "      <td>1</td>\n",
       "      <td>298.1</td>\n",
       "      <td>308.2</td>\n",
       "      <td>1420</td>\n",
       "      <td>63.9</td>\n",
       "      <td>19.0</td>\n",
       "      <td>1</td>\n",
       "    </tr>\n",
       "    <tr>\n",
       "      <th>3</th>\n",
       "      <td>0</td>\n",
       "      <td>298.1</td>\n",
       "      <td>308.3</td>\n",
       "      <td>1331</td>\n",
       "      <td>63.0</td>\n",
       "      <td>13.0</td>\n",
       "      <td>1</td>\n",
       "    </tr>\n",
       "    <tr>\n",
       "      <th>4</th>\n",
       "      <td>0</td>\n",
       "      <td>298.4</td>\n",
       "      <td>308.3</td>\n",
       "      <td>1433</td>\n",
       "      <td>62.3</td>\n",
       "      <td>20.0</td>\n",
       "      <td>1</td>\n",
       "    </tr>\n",
       "  </tbody>\n",
       "</table>\n",
       "</div>"
      ],
      "text/plain": [
       "   Machine Tyoe  Air te1perature [K]  Process temperature [K]  \\\n",
       "0             0                297.9                    309.8   \n",
       "1             0                298.9                    309.0   \n",
       "2             1                298.1                    308.2   \n",
       "3             0                298.1                    308.3   \n",
       "4             0                298.4                    308.3   \n",
       "\n",
       "   Rotational speed [rp1]  Torque [N1]  Tool wear [1in]  Machine Failure  \n",
       "0                    1336         71.6             31.0                1  \n",
       "1                    1410         65.7            191.0                1  \n",
       "2                    1420         63.9             19.0                1  \n",
       "3                    1331         63.0             13.0                1  \n",
       "4                    1433         62.3             20.0                1  "
      ]
     },
     "execution_count": 82,
     "metadata": {},
     "output_type": "execute_result"
    }
   ],
   "source": [
    "import pandas as pd\n",
    "df = pd.read_csv(\"machine_failure_final.csv\")\n",
    "df.head()"
   ]
  },
  {
   "cell_type": "code",
   "execution_count": 2,
   "id": "8b5d15a3-787c-4515-93b0-ec86e114e1ce",
   "metadata": {
    "canvas": {
     "comments": [],
     "componentType": "CodeCell",
     "copiedOriginId": null,
     "diskcache": false,
     "headerColor": "transparent",
     "id": "7f102a50-b7e9-4864-952c-6c843f5c91a8",
     "isComponent": false,
     "name": "",
     "parents": []
    }
   },
   "outputs": [
    {
     "data": {
      "text/plain": [
       "Machine Tyoe  Air te1perature [K]  Process temperature [K]  Rotational speed [rp1]  Torque [N1]  Tool wear [1in]  Machine Failure\n",
       "0             296.1                307.1                    1898                    22.7         20.0             0                  1\n",
       "              298.8                309.1                    1362                    45.4         113.0            0                  1\n",
       "                                                            1378                    54.4         165.0            0                  1\n",
       "                                                            1393                    52.6         167.0            0                  1\n",
       "                                                            1418                    46.3         133.0            0                  1\n",
       "                                                                                                                                    ..\n",
       "              297.6                309.5                    1549                    34.9         68.0             0                  1\n",
       "                                                            1569                    36.2         63.0             0                  1\n",
       "                                                            1574                    30.9         151.0            0                  1\n",
       "                                                            1617                    36.2         42.0             0                  1\n",
       "1             299.1                309.5                    1339                    48.2         86.0             0                  1\n",
       "Length: 856, dtype: int64"
      ]
     },
     "execution_count": 2,
     "metadata": {},
     "output_type": "execute_result"
    }
   ],
   "source": [
    "df.value_counts()"
   ]
  },
  {
   "cell_type": "markdown",
   "id": "cdf72c82-ea1e-44a8-8556-bcdf97541398",
   "metadata": {
    "canvas": {
     "comments": [],
     "componentType": "CodeCell",
     "copiedOriginId": null,
     "diskcache": false,
     "headerColor": "transparent",
     "id": "db7e2fdb-8cbe-4d96-a9d0-8b85fee1047e",
     "isComponent": false,
     "name": "",
     "parents": []
    }
   },
   "source": [
    "The dataframe has 856 x 7 entries."
   ]
  },
  {
   "cell_type": "markdown",
   "id": "ab07c79d-93c3-4aa1-8733-6370beb83919",
   "metadata": {
    "canvas": {
     "comments": [],
     "componentType": "CodeCell",
     "copiedOriginId": null,
     "diskcache": false,
     "headerColor": "transparent",
     "id": "86b87989-7c8c-4258-83c3-6a34550d51ae",
     "isComponent": false,
     "name": "",
     "parents": []
    }
   },
   "source": [
    "#### Ploting the data for better visualization ####"
   ]
  },
  {
   "cell_type": "code",
   "execution_count": 79,
   "id": "86c1a7c9-1a8f-466e-b6bf-011ef4258b18",
   "metadata": {
    "canvas": {
     "comments": [],
     "componentType": "CodeCell",
     "copiedOriginId": null,
     "diskcache": false,
     "headerColor": "transparent",
     "id": "b0cdfa51-6c95-4a70-a10c-4c75abfa2df2",
     "isComponent": false,
     "name": "",
     "parents": []
    }
   },
   "outputs": [
    {
     "data": {
      "image/png": "[encoded data removed]",
      "text/plain": [
       "<Figure size 1200x800 with 8 Axes>"
      ]
     },
     "metadata": {},
     "output_type": "display_data"
    }
   ],
   "source": [
    "import seaborn as sns\n",
    "import matplotlib.pyplot as plt\n",
    "\n",
    "# Assuming df is your DataFrame and 'Price' is a column in df\n",
    "fig, axs = plt.subplots(4, 2, figsize=(12, 8))  # 2 rows, 2 columns\n",
    "\n",
    "# Plot the first subplot\n",
    "sns.histplot(df['Machine Tyoe'], kde=False, ax=axs[0, 0])\n",
    "axs[0, 0].set_title(\"Machine Tyoe\")\n",
    "\n",
    "# Plot the second subplot\n",
    "sns.histplot(df['Air te1perature [K]'], kde=False, ax=axs[0, 1], bins=20, color='salmon', edgecolor='black', linewidth=1.5, alpha=0.9)\n",
    "axs[0, 1].set_title(\"Air te1perature [K]\")\n",
    "\n",
    "# Plot the third subplot\n",
    "sns.histplot(df['Process temperature [K]'], kde=False, ax=axs[1, 0])\n",
    "axs[1, 0].set_title(\"Process temperature [K]\")\n",
    "\n",
    "# Plot the fourth subplot\n",
    "sns.histplot(df['Rotational speed [rp1]'], kde=False, ax=axs[1, 1], bins=20, color='salmon', edgecolor='black', linewidth=1.5, alpha=0.9)\n",
    "axs[1, 1].set_title(\"Rotational speed [rp1]\")\n",
    "\n",
    "# Plot the third subplot\n",
    "sns.histplot(df['Torque [N1]'], kde=False, ax=axs[2, 0])\n",
    "axs[2, 0].set_title(\"Torque [N1]\")\n",
    "\n",
    "# Plot the fourth subplot\n",
    "sns.histplot(df['Tool wear [1in]'], kde=False, ax=axs[2, 1], bins=20, color='salmon', edgecolor='black', linewidth=1.5, alpha=0.9)\n",
    "axs[2, 1].set_title(\"Tool wear [1in]\")\n",
    "\n",
    "# Plot the third subplot\n",
    "sns.histplot(df['Machine Failure'], kde=False, ax=axs[3, 0])\n",
    "axs[3, 0].set_title(\"Machine Failure\")\n",
    "\n",
    "# Adjust layout for better spacing\n",
    "plt.tight_layout()\n",
    "\n",
    "# Show the plots\n",
    "plt.show()\n"
   ]
  },
  {
   "cell_type": "markdown",
   "id": "c30d1638-5a45-47e7-b419-ccd65b4b3094",
   "metadata": {
    "canvas": {
     "comments": [],
     "componentType": "CodeCell",
     "copiedOriginId": null,
     "diskcache": false,
     "headerColor": "transparent",
     "id": "02cda001-e2ec-416f-83c8-78262103f5a3",
     "isComponent": false,
     "name": "",
     "parents": []
    }
   },
   "source": [
    "We can analyze the given data from plots:\n",
    "1. Machine types. There are two machines types, lathe and milling machines. Lathe machine (621) and milling are 237 in number.\n",
    "2. Air temperature ranges its peak around 297K to 299K\n",
    "3. Process Temperature ranges its peak from 308 to 309K\n",
    "4. Rotational speed is having its peak around 1500 rpm\n",
    "5. Torque has its standard deviation arround 30 - 50N\n",
    "6. Tool wear has a contant wear pattern and do not exhibit the guassian distribution.   "
   ]
  },
  {
   "cell_type": "markdown",
   "id": "02daa552-e02c-463e-ab03-08b2f8705eb6",
   "metadata": {
    "canvas": {
     "comments": [],
     "componentType": "CodeCell",
     "copiedOriginId": null,
     "diskcache": false,
     "headerColor": "transparent",
     "id": "f92ccf85-4e6a-4d76-bace-24f27290e45d",
     "isComponent": false,
     "name": "",
     "parents": []
    }
   },
   "source": [
    "#### Encoding ####\n",
    "All numeric data so no need of encoding"
   ]
  },
  {
   "cell_type": "code",
   "execution_count": 3,
   "id": "36c2f7cc-3be6-4762-999a-2effe2b70838",
   "metadata": {
    "canvas": {
     "comments": [],
     "componentType": "CodeCell",
     "copiedOriginId": null,
     "diskcache": false,
     "headerColor": "transparent",
     "id": "1d6f6ada-cac9-4e7f-b5f9-fc9fb9c8a417",
     "isComponent": false,
     "name": "",
     "parents": []
    }
   },
   "outputs": [
    {
     "data": {
      "text/plain": [
       "Machine Tyoe                 int64\n",
       "Air te1perature [K]        float64\n",
       "Process temperature [K]    float64\n",
       "Rotational speed [rp1]       int64\n",
       "Torque [N1]                float64\n",
       "Tool wear [1in]            float64\n",
       "Machine Failure              int64\n",
       "dtype: object"
      ]
     },
     "execution_count": 3,
     "metadata": {},
     "output_type": "execute_result"
    }
   ],
   "source": [
    "df.dtypes"
   ]
  },
  {
   "cell_type": "markdown",
   "id": "6f1fa107-9d5c-4220-9672-bbc5754f2a8d",
   "metadata": {
    "canvas": {
     "comments": [],
     "componentType": "CodeCell",
     "copiedOriginId": null,
     "diskcache": false,
     "headerColor": "transparent",
     "id": "d8668cb5-dddf-4889-8f28-fb6bd3a77724",
     "isComponent": false,
     "name": "",
     "parents": []
    }
   },
   "source": [
    "#### Imputation ####\n",
    "There are two missing entries which needs to be addressed before processing\n",
    "\n",
    "* 1 x Air te1perature [K]\n",
    "* 1 x Tool wear [1in]"
   ]
  },
  {
   "cell_type": "code",
   "execution_count": 83,
   "id": "542f20d4-6020-4135-ba90-1a27cc6c0b9a",
   "metadata": {
    "canvas": {
     "comments": [],
     "componentType": "CodeCell",
     "copiedOriginId": null,
     "diskcache": false,
     "headerColor": "transparent",
     "id": "598e18cd-9f2c-42e3-aca8-2dc56f8ee333",
     "isComponent": false,
     "name": "",
     "parents": []
    }
   },
   "outputs": [
    {
     "data": {
      "text/plain": [
       "Machine Tyoe               0\n",
       "Air te1perature [K]        1\n",
       "Process temperature [K]    0\n",
       "Rotational speed [rp1]     0\n",
       "Torque [N1]                0\n",
       "Tool wear [1in]            1\n",
       "Machine Failure            0\n",
       "dtype: int64"
      ]
     },
     "execution_count": 83,
     "metadata": {},
     "output_type": "execute_result"
    }
   ],
   "source": [
    "df.isna().sum()"
   ]
  },
  {
   "cell_type": "code",
   "execution_count": 87,
   "id": "a87d1b40-74f7-4a14-b4cb-860f327861bf",
   "metadata": {
    "canvas": {
     "comments": [],
     "componentType": "CodeCell",
     "copiedOriginId": null,
     "diskcache": false,
     "headerColor": "transparent",
     "id": "792fbeb6-4b05-4fb1-bece-c3d90c23847c",
     "isComponent": false,
     "name": "",
     "parents": []
    }
   },
   "outputs": [
    {
     "data": {
      "text/plain": [
       "<Axes: >"
      ]
     },
     "execution_count": 87,
     "metadata": {},
     "output_type": "execute_result"
    },
    {
     "data": {
      "image/png": "[encoded data removed]",
      "text/plain": [
       "<Figure size 1000x500 with 2 Axes>"
      ]
     },
     "metadata": {},
     "output_type": "display_data"
    }
   ],
   "source": [
    "import missingno\n",
    "#plot missing number matirx representation\n",
    "missingno.matrix(df,figsize=[10, 5], fontsize=10)\n",
    "#missingno.matrix(test_set,figsize=[4, 4], fontsize=5)"
   ]
  },
  {
   "cell_type": "markdown",
   "id": "0113b83b-d0ce-4f20-b95c-a93a5e67f329",
   "metadata": {
    "canvas": {
     "comments": [],
     "componentType": "CodeCell",
     "copiedOriginId": null,
     "diskcache": false,
     "headerColor": "transparent",
     "id": "683a73f6-0d93-499b-aea7-75d36c48b81e",
     "isComponent": false,
     "name": "",
     "parents": []
    }
   },
   "source": [
    "* Missingno plot indicating there are 2 x entries missing, as indicated from white line.\n",
    "* We replace the missing entries with mean of the column. "
   ]
  },
  {
   "cell_type": "code",
   "execution_count": 6,
   "id": "3d2fea65-97f7-4151-83e1-f984e99f8e66",
   "metadata": {
    "canvas": {
     "comments": [],
     "componentType": "CodeCell",
     "copiedOriginId": null,
     "diskcache": false,
     "headerColor": "transparent",
     "id": "60b84b61-f1dc-4ca3-8553-b873ef4eac4d",
     "isComponent": false,
     "name": "",
     "parents": []
    }
   },
   "outputs": [],
   "source": [
    "df[\"Air te1perature [K]\"].fillna(value=df[\"Air te1perature [K]\"].mean(), inplace=True)"
   ]
  },
  {
   "cell_type": "code",
   "execution_count": 7,
   "id": "b393128d-534f-4a89-a853-7f2bf217f3fd",
   "metadata": {
    "canvas": {
     "comments": [],
     "componentType": "CodeCell",
     "copiedOriginId": null,
     "diskcache": false,
     "headerColor": "transparent",
     "id": "d62af33f-22bb-4491-baf7-8e18c56a8dfe",
     "isComponent": false,
     "name": "",
     "parents": []
    }
   },
   "outputs": [],
   "source": [
    "df[\"Tool wear [1in]\"].fillna(value=df[\"Tool wear [1in]\"].mean(), inplace=True)"
   ]
  },
  {
   "cell_type": "code",
   "execution_count": 8,
   "id": "5c8a65a0-8a4d-4ffe-a38f-7ff6137e9113",
   "metadata": {
    "canvas": {
     "comments": [],
     "componentType": "CodeCell",
     "copiedOriginId": null,
     "diskcache": false,
     "headerColor": "transparent",
     "id": "25faf73b-a587-4a20-849c-c2bade6c9a4e",
     "isComponent": false,
     "name": "",
     "parents": []
    }
   },
   "outputs": [
    {
     "data": {
      "text/plain": [
       "Machine Tyoe               0\n",
       "Air te1perature [K]        0\n",
       "Process temperature [K]    0\n",
       "Rotational speed [rp1]     0\n",
       "Torque [N1]                0\n",
       "Tool wear [1in]            0\n",
       "Machine Failure            0\n",
       "dtype: int64"
      ]
     },
     "execution_count": 8,
     "metadata": {},
     "output_type": "execute_result"
    }
   ],
   "source": [
    "df.isna().sum()"
   ]
  },
  {
   "cell_type": "markdown",
   "id": "31cd58ce-6844-454c-a431-b85621d5a50c",
   "metadata": {
    "canvas": {
     "comments": [],
     "componentType": "CodeCell",
     "copiedOriginId": null,
     "diskcache": false,
     "headerColor": "transparent",
     "id": "963fedb4-f797-4812-97cf-938f069f1d94",
     "isComponent": false,
     "name": "",
     "parents": []
    }
   },
   "source": [
    "Since this the the classiification problem, hence we need not to convert it into test/ train split and then carryout the imputation.\n",
    "\n",
    "otherwise had it been a Regression problem, to avoid the data leakage we need to split the data first and then imputate to avoid data leakage.\n",
    "\n",
    "Now our data is clean\n",
    "\n",
    "All numeric and no missing entries"
   ]
  },
  {
   "cell_type": "code",
   "execution_count": 9,
   "id": "3d3bc206-6022-4362-be95-b9fc13a49e04",
   "metadata": {
    "canvas": {
     "comments": [],
     "componentType": "CodeCell",
     "copiedOriginId": null,
     "diskcache": false,
     "headerColor": "transparent",
     "id": "fe96ffb2-3808-4614-a57a-54cf8aa096e2",
     "isComponent": false,
     "name": "",
     "parents": []
    }
   },
   "outputs": [
    {
     "data": {
      "text/plain": [
       "Machine Tyoe                 int64\n",
       "Air te1perature [K]        float64\n",
       "Process temperature [K]    float64\n",
       "Rotational speed [rp1]       int64\n",
       "Torque [N1]                float64\n",
       "Tool wear [1in]            float64\n",
       "Machine Failure              int64\n",
       "dtype: object"
      ]
     },
     "execution_count": 9,
     "metadata": {},
     "output_type": "execute_result"
    }
   ],
   "source": [
    "df.dtypes"
   ]
  },
  {
   "cell_type": "code",
   "execution_count": 10,
   "id": "ad726288-4372-4e57-a581-d53beb319471",
   "metadata": {
    "canvas": {
     "comments": [],
     "componentType": "CodeCell",
     "copiedOriginId": null,
     "diskcache": false,
     "headerColor": "transparent",
     "id": "905e69e2-05af-4f5a-99e4-e5f913aaa730",
     "isComponent": false,
     "name": "",
     "parents": []
    }
   },
   "outputs": [
    {
     "data": {
      "text/plain": [
       "Machine Tyoe               0\n",
       "Air te1perature [K]        0\n",
       "Process temperature [K]    0\n",
       "Rotational speed [rp1]     0\n",
       "Torque [N1]                0\n",
       "Tool wear [1in]            0\n",
       "Machine Failure            0\n",
       "dtype: int64"
      ]
     },
     "execution_count": 10,
     "metadata": {},
     "output_type": "execute_result"
    }
   ],
   "source": [
    "df.isna().sum()"
   ]
  },
  {
   "cell_type": "code",
   "execution_count": 80,
   "id": "14df52e0-6f8d-48fa-930a-c7521a441b1b",
   "metadata": {
    "canvas": {
     "comments": [],
     "componentType": "CodeCell",
     "copiedOriginId": null,
     "diskcache": false,
     "headerColor": "transparent",
     "id": "46445e49-c1c7-48c5-bc8e-b87e0f0eae00",
     "isComponent": false,
     "name": "",
     "parents": []
    }
   },
   "outputs": [
    {
     "data": {
      "text/plain": [
       "0    621\n",
       "1    237\n",
       "Name: Machine Tyoe, dtype: int64"
      ]
     },
     "execution_count": 80,
     "metadata": {},
     "output_type": "execute_result"
    }
   ],
   "source": [
    "df[\"Machine Tyoe\"].value_counts()"
   ]
  },
  {
   "cell_type": "code",
   "execution_count": 12,
   "id": "4df47b4c-8ef5-41f6-8914-4f2e2e678fe6",
   "metadata": {
    "canvas": {
     "comments": [],
     "componentType": "CodeCell",
     "copiedOriginId": null,
     "diskcache": false,
     "headerColor": "transparent",
     "id": "f7a479d9-063d-4b14-a9be-1f529bb3a173",
     "isComponent": false,
     "name": "",
     "parents": []
    }
   },
   "outputs": [
    {
     "data": {
      "text/plain": [
       "0    523\n",
       "1    335\n",
       "Name: Machine Failure, dtype: int64"
      ]
     },
     "execution_count": 12,
     "metadata": {},
     "output_type": "execute_result"
    }
   ],
   "source": [
    "df[\"Machine Failure\"].value_counts()"
   ]
  },
  {
   "cell_type": "markdown",
   "id": "71a681cf-9070-4b00-8b58-a73805bbe37e",
   "metadata": {
    "canvas": {
     "comments": [],
     "componentType": "CodeCell",
     "copiedOriginId": null,
     "diskcache": false,
     "headerColor": "transparent",
     "id": "57f6debd-dbb4-4799-9510-0247ea6ad35a",
     "isComponent": false,
     "name": "",
     "parents": []
    }
   },
   "source": [
    "It is a slightly imbalance dataset\n",
    "\n",
    "*  0  -  523 extries are of successful machine performace\n",
    "\n",
    "*  1  -  335 entries are of failure\n",
    "\n",
    "so precision and recall will be important parameters in evaluation metircs, we will look into later"
   ]
  },
  {
   "cell_type": "markdown",
   "id": "26593a68-60ff-4c79-84dc-16649f40d2e9",
   "metadata": {
    "canvas": {
     "comments": [],
     "componentType": "CodeCell",
     "copiedOriginId": null,
     "diskcache": false,
     "headerColor": "transparent",
     "id": "3443f397-e41c-4155-b6bd-c63761e4f697",
     "isComponent": false,
     "name": "",
     "parents": []
    }
   },
   "source": [
    "# 3. Model Selection - based on data #"
   ]
  },
  {
   "cell_type": "code",
   "execution_count": 14,
   "id": "77975b8e-4f9c-4b07-bad6-76450dc0eff4",
   "metadata": {
    "canvas": {
     "comments": [],
     "componentType": "CodeCell",
     "copiedOriginId": null,
     "diskcache": false,
     "headerColor": "transparent",
     "id": "a721baa2-8a0b-4403-9357-51d93c23a176",
     "isComponent": false,
     "name": "",
     "parents": []
    }
   },
   "outputs": [
    {
     "data": {
      "text/plain": [
       "858"
      ]
     },
     "execution_count": 14,
     "metadata": {},
     "output_type": "execute_result"
    }
   ],
   "source": [
    "len(df)"
   ]
  },
  {
   "cell_type": "markdown",
   "id": "decbff34-a2c8-4024-9181-ef6e68135254",
   "metadata": {
    "canvas": {
     "comments": [],
     "componentType": "CodeCell",
     "copiedOriginId": null,
     "diskcache": false,
     "headerColor": "transparent",
     "id": "7aacf361-7bec-4550-9d04-105502c7e8b7",
     "isComponent": false,
     "name": "",
     "parents": []
    }
   },
   "source": [
    "* So there are 858 samples available.\n",
    "\n",
    "*  Classification problem.\n",
    "\n",
    "*  Hence using the estimator using scikit learn documentation, we will choose our baseline model as LInear SVC since samples are <100k"
   ]
  },
  {
   "cell_type": "markdown",
   "id": "0c8531fc-ab45-4190-9a33-d4464864235a",
   "metadata": {
    "canvas": {
     "comments": [],
     "componentType": "CodeCell",
     "copiedOriginId": null,
     "diskcache": false,
     "headerColor": "transparent",
     "id": "2e7bb898-53d1-44fc-9fd9-873cdf052ca2",
     "isComponent": false,
     "name": "",
     "parents": []
    }
   },
   "source": [
    "#### 3.1 Model - 1 : Linear SVC ####"
   ]
  },
  {
   "cell_type": "code",
   "execution_count": 15,
   "id": "60f1a9ac-183b-48d3-a5df-af34496616c7",
   "metadata": {
    "canvas": {
     "comments": [],
     "componentType": "CodeCell",
     "copiedOriginId": null,
     "diskcache": false,
     "headerColor": "transparent",
     "id": "48abbfc3-d23d-47f1-8dcb-c0db9bf4f31f",
     "isComponent": false,
     "name": "",
     "parents": []
    }
   },
   "outputs": [
    {
     "data": {
      "text/html": [
       "<div>\n",
       "<style scoped>\n",
       "    .dataframe tbody tr th:only-of-type {\n",
       "        vertical-align: middle;\n",
       "    }\n",
       "\n",
       "    .dataframe tbody tr th {\n",
       "        vertical-align: top;\n",
       "    }\n",
       "\n",
       "    .dataframe thead th {\n",
       "        text-align: right;\n",
       "    }\n",
       "</style>\n",
       "<table border=\"1\" class=\"dataframe\">\n",
       "  <thead>\n",
       "    <tr style=\"text-align: right;\">\n",
       "      <th></th>\n",
       "      <th>Machine Tyoe</th>\n",
       "      <th>Air te1perature [K]</th>\n",
       "      <th>Process temperature [K]</th>\n",
       "      <th>Rotational speed [rp1]</th>\n",
       "      <th>Torque [N1]</th>\n",
       "      <th>Tool wear [1in]</th>\n",
       "    </tr>\n",
       "  </thead>\n",
       "  <tbody>\n",
       "    <tr>\n",
       "      <th>0</th>\n",
       "      <td>0</td>\n",
       "      <td>297.9</td>\n",
       "      <td>309.8</td>\n",
       "      <td>1336</td>\n",
       "      <td>71.6</td>\n",
       "      <td>31.0</td>\n",
       "    </tr>\n",
       "    <tr>\n",
       "      <th>1</th>\n",
       "      <td>0</td>\n",
       "      <td>298.9</td>\n",
       "      <td>309.0</td>\n",
       "      <td>1410</td>\n",
       "      <td>65.7</td>\n",
       "      <td>191.0</td>\n",
       "    </tr>\n",
       "    <tr>\n",
       "      <th>2</th>\n",
       "      <td>1</td>\n",
       "      <td>298.1</td>\n",
       "      <td>308.2</td>\n",
       "      <td>1420</td>\n",
       "      <td>63.9</td>\n",
       "      <td>19.0</td>\n",
       "    </tr>\n",
       "    <tr>\n",
       "      <th>3</th>\n",
       "      <td>0</td>\n",
       "      <td>298.1</td>\n",
       "      <td>308.3</td>\n",
       "      <td>1331</td>\n",
       "      <td>63.0</td>\n",
       "      <td>13.0</td>\n",
       "    </tr>\n",
       "    <tr>\n",
       "      <th>4</th>\n",
       "      <td>0</td>\n",
       "      <td>298.4</td>\n",
       "      <td>308.3</td>\n",
       "      <td>1433</td>\n",
       "      <td>62.3</td>\n",
       "      <td>20.0</td>\n",
       "    </tr>\n",
       "    <tr>\n",
       "      <th>...</th>\n",
       "      <td>...</td>\n",
       "      <td>...</td>\n",
       "      <td>...</td>\n",
       "      <td>...</td>\n",
       "      <td>...</td>\n",
       "      <td>...</td>\n",
       "    </tr>\n",
       "    <tr>\n",
       "      <th>853</th>\n",
       "      <td>0</td>\n",
       "      <td>297.5</td>\n",
       "      <td>308.3</td>\n",
       "      <td>2564</td>\n",
       "      <td>12.8</td>\n",
       "      <td>127.0</td>\n",
       "    </tr>\n",
       "    <tr>\n",
       "      <th>854</th>\n",
       "      <td>1</td>\n",
       "      <td>298.2</td>\n",
       "      <td>308.5</td>\n",
       "      <td>2678</td>\n",
       "      <td>10.7</td>\n",
       "      <td>86.0</td>\n",
       "    </tr>\n",
       "    <tr>\n",
       "      <th>855</th>\n",
       "      <td>0</td>\n",
       "      <td>296.4</td>\n",
       "      <td>307.4</td>\n",
       "      <td>2833</td>\n",
       "      <td>5.6</td>\n",
       "      <td>213.0</td>\n",
       "    </tr>\n",
       "    <tr>\n",
       "      <th>856</th>\n",
       "      <td>0</td>\n",
       "      <td>298.9</td>\n",
       "      <td>309.1</td>\n",
       "      <td>2861</td>\n",
       "      <td>4.6</td>\n",
       "      <td>143.0</td>\n",
       "    </tr>\n",
       "    <tr>\n",
       "      <th>857</th>\n",
       "      <td>0</td>\n",
       "      <td>297.4</td>\n",
       "      <td>308.7</td>\n",
       "      <td>2874</td>\n",
       "      <td>4.2</td>\n",
       "      <td>118.0</td>\n",
       "    </tr>\n",
       "  </tbody>\n",
       "</table>\n",
       "<p>858 rows × 6 columns</p>\n",
       "</div>"
      ],
      "text/plain": [
       "     Machine Tyoe  Air te1perature [K]  Process temperature [K]  \\\n",
       "0               0                297.9                    309.8   \n",
       "1               0                298.9                    309.0   \n",
       "2               1                298.1                    308.2   \n",
       "3               0                298.1                    308.3   \n",
       "4               0                298.4                    308.3   \n",
       "..            ...                  ...                      ...   \n",
       "853             0                297.5                    308.3   \n",
       "854             1                298.2                    308.5   \n",
       "855             0                296.4                    307.4   \n",
       "856             0                298.9                    309.1   \n",
       "857             0                297.4                    308.7   \n",
       "\n",
       "     Rotational speed [rp1]  Torque [N1]  Tool wear [1in]  \n",
       "0                      1336         71.6             31.0  \n",
       "1                      1410         65.7            191.0  \n",
       "2                      1420         63.9             19.0  \n",
       "3                      1331         63.0             13.0  \n",
       "4                      1433         62.3             20.0  \n",
       "..                      ...          ...              ...  \n",
       "853                    2564         12.8            127.0  \n",
       "854                    2678         10.7             86.0  \n",
       "855                    2833          5.6            213.0  \n",
       "856                    2861          4.6            143.0  \n",
       "857                    2874          4.2            118.0  \n",
       "\n",
       "[858 rows x 6 columns]"
      ]
     },
     "execution_count": 15,
     "metadata": {},
     "output_type": "execute_result"
    }
   ],
   "source": [
    "X = df.drop('Machine Failure', axis=1)\n",
    "X"
   ]
  },
  {
   "cell_type": "code",
   "execution_count": 16,
   "id": "b9007add-4e3b-4718-baf1-842e6a365b6b",
   "metadata": {
    "canvas": {
     "comments": [],
     "componentType": "CodeCell",
     "copiedOriginId": null,
     "diskcache": false,
     "headerColor": "transparent",
     "id": "5f613539-cc0a-46b6-be8f-aca8e9704855",
     "isComponent": false,
     "name": "",
     "parents": []
    }
   },
   "outputs": [
    {
     "data": {
      "text/plain": [
       "0      1\n",
       "1      1\n",
       "2      1\n",
       "3      1\n",
       "4      1\n",
       "      ..\n",
       "853    1\n",
       "854    1\n",
       "855    1\n",
       "856    1\n",
       "857    1\n",
       "Name: Machine Failure, Length: 858, dtype: int64"
      ]
     },
     "execution_count": 16,
     "metadata": {},
     "output_type": "execute_result"
    }
   ],
   "source": [
    "y = df['Machine Failure']\n",
    "y"
   ]
  },
  {
   "cell_type": "code",
   "execution_count": 17,
   "id": "604548be-5b94-4136-8b5f-18bcc41d031d",
   "metadata": {
    "canvas": {
     "comments": [],
     "componentType": "CodeCell",
     "copiedOriginId": null,
     "diskcache": false,
     "headerColor": "transparent",
     "id": "f7a2dcc6-aa7b-466b-a458-20aae253330e",
     "isComponent": false,
     "name": "",
     "parents": []
    }
   },
   "outputs": [
    {
     "data": {
      "text/plain": [
       "((600, 6), (600,), (258, 6), (258,))"
      ]
     },
     "execution_count": 17,
     "metadata": {},
     "output_type": "execute_result"
    }
   ],
   "source": [
    "# Splitting the data into training and test sets\n",
    "from sklearn.model_selection import train_test_split\n",
    "X_train, X_test, y_train, y_test = train_test_split(X, \n",
    "                                                    y, \n",
    "                                                    test_size=0.3) # you can change the test size\n",
    "\n",
    "# Create validation and test split by spliting testing data in half (30% test -> 15% validation, 15% test)\n",
    "#X_valid, X_test, y_valid, y_test = train_test_split(X_test, y_test, test_size=0.5)\n",
    "\n",
    "# Check the shapes of different data splits\n",
    "X_train.shape, y_train.shape, X_test.shape, y_test.shape, #X_valid.shape, y_valid.shape"
   ]
  },
  {
   "cell_type": "code",
   "execution_count": 18,
   "id": "c34fe6ec-9e20-4605-bc7b-782ad656fd6d",
   "metadata": {
    "canvas": {
     "comments": [],
     "componentType": "CodeCell",
     "copiedOriginId": null,
     "diskcache": false,
     "headerColor": "transparent",
     "id": "131e3520-30e5-4e2e-9a5b-1765ccbb79dd",
     "isComponent": false,
     "name": "",
     "parents": []
    }
   },
   "outputs": [],
   "source": [
    "import numpy as np\n",
    "import sklearn"
   ]
  },
  {
   "cell_type": "code",
   "execution_count": 30,
   "id": "51d6e6a8-556f-4a2e-9691-1c65bc053332",
   "metadata": {
    "canvas": {
     "comments": [],
     "componentType": "CodeCell",
     "copiedOriginId": null,
     "diskcache": false,
     "headerColor": "transparent",
     "id": "0875e144-c6d5-4bd9-87c0-0d4f126749dc",
     "isComponent": false,
     "name": "",
     "parents": []
    }
   },
   "outputs": [
    {
     "data": {
      "text/plain": [
       "0.8527131782945736"
      ]
     },
     "execution_count": 30,
     "metadata": {},
     "output_type": "execute_result"
    }
   ],
   "source": [
    "from sklearn.svm import LinearSVC\n",
    "from sklearn.preprocessing import StandardScaler\n",
    "from sklearn.pipeline import make_pipeline\n",
    "clf_1 = make_pipeline(StandardScaler(),\n",
    "                    LinearSVC(dual=\"auto\", random_state=0, tol=1e-5))\n",
    "\n",
    "# Fitting and evaluting the baseline model\n",
    "clf_1.fit(X_train, y_train)\n",
    "clf_1.score(X_test, y_test)"
   ]
  },
  {
   "cell_type": "markdown",
   "id": "78151824-1a4c-4e51-98cd-2bad6ef0e996",
   "metadata": {
    "canvas": {
     "comments": [],
     "componentType": "CodeCell",
     "copiedOriginId": null,
     "diskcache": false,
     "headerColor": "transparent",
     "id": "a18b1bbd-bc0d-4f7f-96d0-493d012aecf5",
     "isComponent": false,
     "name": "",
     "parents": []
    }
   },
   "source": [
    "* Our baseline model has given quite good accuracy\n",
    "* Now we need to improve the results using few other models\n",
    "* Thereafter will go for hyperparameter tunning"
   ]
  },
  {
   "cell_type": "markdown",
   "id": "e7ce8a9a-f40e-4fee-8b97-7c61bae35ea8",
   "metadata": {
    "canvas": {
     "comments": [],
     "componentType": "CodeCell",
     "copiedOriginId": null,
     "diskcache": false,
     "headerColor": "transparent",
     "id": "b5c92951-2efb-4cee-a885-4063a9a882f6",
     "isComponent": false,
     "name": "",
     "parents": []
    }
   },
   "source": [
    "#### 3.2 Model - 2 : NuSVC ####"
   ]
  },
  {
   "cell_type": "code",
   "execution_count": 31,
   "id": "b8d80cc4-2a5b-43cd-96b8-b3d3e5273502",
   "metadata": {
    "canvas": {
     "comments": [],
     "componentType": "CodeCell",
     "copiedOriginId": null,
     "diskcache": false,
     "headerColor": "transparent",
     "id": "d7c17320-e1e3-4488-8dd0-720a32d077b0",
     "isComponent": false,
     "name": "",
     "parents": []
    }
   },
   "outputs": [
    {
     "data": {
      "text/plain": [
       "0.8837209302325582"
      ]
     },
     "execution_count": 31,
     "metadata": {},
     "output_type": "execute_result"
    }
   ],
   "source": [
    "from sklearn.svm import NuSVC\n",
    "from sklearn.preprocessing import StandardScaler\n",
    "from sklearn.pipeline import make_pipeline\n",
    "clf_2 = make_pipeline(StandardScaler(), NuSVC())\n",
    "\n",
    "\n",
    "# Fitting and evaluting the baseline model\n",
    "clf_2.fit(X_train, y_train)\n",
    "clf_2.score(X_test, y_test)"
   ]
  },
  {
   "cell_type": "markdown",
   "id": "2dc62033-d215-473a-af32-8bf71f24e5a4",
   "metadata": {
    "canvas": {
     "comments": [],
     "componentType": "CodeCell",
     "copiedOriginId": null,
     "diskcache": false,
     "headerColor": "transparent",
     "id": "09a449ea-6f6f-4fa7-940c-77bc4c5f1e94",
     "isComponent": false,
     "name": "",
     "parents": []
    }
   },
   "source": [
    "* Our results have increased\n",
    "* The score command by defualt giving the accuracy of the model\n",
    "* It shows the total correct prediction percentage out of total samples\n",
    "* Try another model"
   ]
  },
  {
   "cell_type": "markdown",
   "id": "add2adfa-b9b0-42a2-b798-6b758c039fa2",
   "metadata": {
    "canvas": {
     "comments": [],
     "componentType": "CodeCell",
     "copiedOriginId": null,
     "diskcache": false,
     "headerColor": "transparent",
     "id": "92a0b37d-f52f-418f-8ba9-9914be7a88e0",
     "isComponent": false,
     "name": "",
     "parents": []
    }
   },
   "source": [
    "#### 3.3 Model - 3 : SVC ####"
   ]
  },
  {
   "cell_type": "code",
   "execution_count": 32,
   "id": "9a60fd29-5431-49d0-97c0-1bc6fdcaab0a",
   "metadata": {
    "canvas": {
     "comments": [],
     "componentType": "CodeCell",
     "copiedOriginId": null,
     "diskcache": false,
     "headerColor": "transparent",
     "id": "86295d78-76f9-4a22-a35f-29eed5e96b2a",
     "isComponent": false,
     "name": "",
     "parents": []
    }
   },
   "outputs": [
    {
     "data": {
      "text/plain": [
       "0.9457364341085271"
      ]
     },
     "execution_count": 32,
     "metadata": {},
     "output_type": "execute_result"
    }
   ],
   "source": [
    "from sklearn.svm import SVC\n",
    "from sklearn.preprocessing import StandardScaler\n",
    "from sklearn.pipeline import make_pipeline\n",
    "clf_3 = make_pipeline(StandardScaler(), SVC(gamma='auto'))\n",
    "\n",
    "# Make sure to use the transformed data (filled and one-hot encoded X data)\n",
    "clf_3.fit(X_train, y_train)\n",
    "clf_3.score(X_test, y_test)"
   ]
  },
  {
   "cell_type": "markdown",
   "id": "43c76729-2003-452c-b57e-b746b7b2f7ff",
   "metadata": {
    "canvas": {
     "comments": [],
     "componentType": "CodeCell",
     "copiedOriginId": null,
     "diskcache": false,
     "headerColor": "transparent",
     "id": "092883fe-ce2c-49b1-8ca0-87c42ddb0c98",
     "isComponent": false,
     "name": "",
     "parents": []
    }
   },
   "source": [
    "* Model accuracy has increasd considerably\n",
    "* Mov towards more complicated model selection\n",
    "* lets trg few other models"
   ]
  },
  {
   "cell_type": "markdown",
   "id": "e4bb9dda-176c-428a-b3bf-5394e4351faa",
   "metadata": {
    "canvas": {
     "comments": [],
     "componentType": "CodeCell",
     "copiedOriginId": null,
     "diskcache": false,
     "headerColor": "transparent",
     "id": "4984a5d7-ca35-4f34-801a-3f8e14acd215",
     "isComponent": false,
     "name": "",
     "parents": []
    }
   },
   "source": [
    "#### 3.4 Model - 4 : Knearest Neighbours ####"
   ]
  },
  {
   "cell_type": "code",
   "execution_count": 33,
   "id": "3b52638e-22a9-4fc6-97df-74a1e42959c7",
   "metadata": {
    "canvas": {
     "comments": [],
     "componentType": "CodeCell",
     "copiedOriginId": null,
     "diskcache": false,
     "headerColor": "transparent",
     "id": "e88d7ffc-7000-4606-8848-00337232fc0e",
     "isComponent": false,
     "name": "",
     "parents": []
    }
   },
   "outputs": [
    {
     "data": {
      "text/plain": [
       "0.8837209302325582"
      ]
     },
     "execution_count": 33,
     "metadata": {},
     "output_type": "execute_result"
    }
   ],
   "source": [
    "from sklearn.neighbors import KNeighborsClassifier\n",
    "from sklearn.pipeline import Pipeline\n",
    "from sklearn.preprocessing import StandardScaler\n",
    "\n",
    "clf_4 = Pipeline(\n",
    "    steps=[(\"scaler\", StandardScaler()), (\"knn\", KNeighborsClassifier(n_neighbors=11))]\n",
    ")\n",
    "\n",
    "clf_4.fit (X_train, y_train)\n",
    "clf_4.score(X_test, y_test)"
   ]
  },
  {
   "cell_type": "markdown",
   "id": "d46c4be4-b994-406f-8138-f47c682348cf",
   "metadata": {
    "canvas": {
     "comments": [],
     "componentType": "CodeCell",
     "copiedOriginId": null,
     "diskcache": false,
     "headerColor": "transparent",
     "id": "6e650617-fe0c-417e-9d3d-be3f97948562",
     "isComponent": false,
     "name": "",
     "parents": []
    }
   },
   "source": [
    "#### 3.5 Model - 5 : RandomForestClassifier ####"
   ]
  },
  {
   "cell_type": "code",
   "execution_count": 34,
   "id": "b6a0956f-18ab-41bc-adb7-1d81154f3fa9",
   "metadata": {
    "canvas": {
     "comments": [],
     "componentType": "CodeCell",
     "copiedOriginId": null,
     "diskcache": false,
     "headerColor": "transparent",
     "id": "3e71400c-7338-4a45-b716-69cc3ab8eaec",
     "isComponent": false,
     "name": "",
     "parents": []
    }
   },
   "outputs": [
    {
     "data": {
      "text/plain": [
       "0.9767441860465116"
      ]
     },
     "execution_count": 34,
     "metadata": {},
     "output_type": "execute_result"
    }
   ],
   "source": [
    "from sklearn.ensemble import RandomForestClassifier\n",
    "clf_5 = RandomForestClassifier(n_estimators=100)\n",
    "\n",
    "# Make sure to use the transformed data (filled and one-hot encoded X data)\n",
    "clf_5.fit(X_train, y_train)\n",
    "clf_5.score(X_test, y_test)"
   ]
  },
  {
   "cell_type": "markdown",
   "id": "4afbc51b-618a-43a2-8032-501fdc415dfd",
   "metadata": {
    "canvas": {
     "comments": [],
     "componentType": "CodeCell",
     "copiedOriginId": null,
     "diskcache": false,
     "headerColor": "transparent",
     "id": "2b0ef8cf-cd26-4780-9756-9d16bd4caeb4",
     "isComponent": false,
     "name": "",
     "parents": []
    }
   },
   "source": [
    "* great\n",
    "* Our baseline model has given good prediction\n",
    "* Move forward to evaluate. No wait"
   ]
  },
  {
   "cell_type": "markdown",
   "id": "6c45d161-ae96-4160-aefb-925114e36d39",
   "metadata": {
    "canvas": {
     "comments": [],
     "componentType": "CodeCell",
     "copiedOriginId": null,
     "diskcache": false,
     "headerColor": "transparent",
     "id": "bdd76d92-6fc8-4bea-87f7-22a26a46853d",
     "isComponent": false,
     "name": "",
     "parents": []
    }
   },
   "source": [
    "#### Which Model to be selected? ####\n",
    "\n",
    "* We selected 5 x Models\n",
    "* The accuracy ranges from 85% to 97%\n",
    "* to be realistic so that our model be a **generalized** model, we will keep the model which gives accuracy arroud 90 - 95%\n",
    "* So we select SVC as our final model (clf_3)"
   ]
  },
  {
   "cell_type": "markdown",
   "id": "87cdc146-c980-4ca7-a504-f8a034834073",
   "metadata": {
    "canvas": {
     "comments": [],
     "componentType": "CodeCell",
     "copiedOriginId": null,
     "diskcache": false,
     "headerColor": "transparent",
     "id": "694812f9-98be-4a67-9cb7-d0f12755b4f7",
     "isComponent": false,
     "name": "",
     "parents": []
    }
   },
   "source": [
    "# 4. Evaluation #"
   ]
  },
  {
   "cell_type": "code",
   "execution_count": 35,
   "id": "1d7f40c5-f237-4cd0-a761-e16eb5252968",
   "metadata": {
    "canvas": {
     "comments": [],
     "componentType": "CodeCell",
     "copiedOriginId": null,
     "diskcache": false,
     "headerColor": "transparent",
     "id": "6e305dae-3330-40dd-a282-5753f912cd5c",
     "isComponent": false,
     "name": "",
     "parents": []
    }
   },
   "outputs": [],
   "source": [
    "from sklearn.metrics import accuracy_score, precision_score, recall_score, f1_score\n",
    "import numpy as np"
   ]
  },
  {
   "cell_type": "code",
   "execution_count": 41,
   "id": "8951184d-437f-46d9-b293-261992959069",
   "metadata": {
    "canvas": {
     "comments": [],
     "componentType": "CodeCell",
     "copiedOriginId": null,
     "diskcache": false,
     "headerColor": "transparent",
     "id": "55eea85a-9fd8-40dc-9a6d-38d1ab441ee8",
     "isComponent": false,
     "name": "",
     "parents": []
    }
   },
   "outputs": [],
   "source": [
    "y_preds = clf_3.predict(X_test)"
   ]
  },
  {
   "cell_type": "code",
   "execution_count": 42,
   "id": "663790b4-d045-4719-9fd4-f828c8979884",
   "metadata": {
    "canvas": {
     "comments": [],
     "componentType": "CodeCell",
     "copiedOriginId": null,
     "diskcache": false,
     "headerColor": "transparent",
     "id": "55c41e76-8cf7-4569-bb40-adf9b9df86be",
     "isComponent": false,
     "name": "",
     "parents": []
    }
   },
   "outputs": [],
   "source": [
    "def evaluate_preds(y_true: np.array, \n",
    "                   y_preds: np.array) -> dict:\n",
    "    \"\"\"\n",
    "    Performs evaluation comparison on y_true labels vs. y_pred labels.\n",
    "\n",
    "    Returns several metrics in the form of a dictionary.\n",
    "    \"\"\"\n",
    "    accuracy = accuracy_score(y_true, y_preds)\n",
    "    precision = precision_score(y_true, y_preds)\n",
    "    recall = recall_score(y_true, y_preds)\n",
    "    f1 = f1_score(y_true, y_preds)\n",
    "    metric_dict = {\"accuracy\": round(accuracy, 2),\n",
    "                   \"precision\": round(precision, 2), \n",
    "                   \"recall\": round(recall, 2),\n",
    "                   \"f1\": round(f1, 2)}\n",
    "    print(f\"Acc: {accuracy * 100:.2f}%\")\n",
    "    print(f\"Precision: {precision:.2f}\")\n",
    "    print(f\"Recall: {recall:.2f}\")\n",
    "    print(f\"F1 score: {f1:.2f}\")\n",
    "\n",
    "    return metric_dict"
   ]
  },
  {
   "cell_type": "code",
   "execution_count": 43,
   "id": "27f9e423-2718-4839-9425-f6bf9b605831",
   "metadata": {
    "canvas": {
     "comments": [],
     "componentType": "CodeCell",
     "copiedOriginId": null,
     "diskcache": false,
     "headerColor": "transparent",
     "id": "2be033be-0fa2-40f5-86b7-2ab514d3726d",
     "isComponent": false,
     "name": "",
     "parents": []
    }
   },
   "outputs": [
    {
     "name": "stdout",
     "output_type": "stream",
     "text": [
      "Acc: 94.57%\n",
      "Precision: 0.95\n",
      "Recall: 0.91\n",
      "F1 score: 0.93\n"
     ]
    },
    {
     "data": {
      "text/plain": [
       "{'accuracy': 0.95, 'precision': 0.95, 'recall': 0.91, 'f1': 0.93}"
      ]
     },
     "execution_count": 43,
     "metadata": {},
     "output_type": "execute_result"
    }
   ],
   "source": [
    "evaluate_preds(y_test, y_preds)"
   ]
  },
  {
   "cell_type": "markdown",
   "id": "6c1b7143-8eff-4ad1-8383-14f1b9d9c5d1",
   "metadata": {
    "canvas": {
     "comments": [],
     "componentType": "CodeCell",
     "copiedOriginId": null,
     "diskcache": false,
     "headerColor": "transparent",
     "id": "28ba6ead-51da-4baa-ac44-3b0894983547",
     "isComponent": false,
     "name": "",
     "parents": []
    }
   },
   "source": [
    "*  Accuracy is the ratio of correctly predicted instances (both true positives and true negatives) to the total number of instances. In our case, the model is accurate in its predictions for approximately 94.57% of the cases.\n",
    "\n",
    "*  Precision is the ratio of true positive predictions to the total predicted positives. In our scenario, when the model predicts a positive class, it is correct about 95% of the time. It reflects the accuracy of the positive predictions. \n",
    "\n",
    "*  Recall, also known as sensitivity or true positive rate, is the ratio of true positive predictions to the total actual positives. In our case, the model captures about 91% of all actual positive instances. It measures the model's ability to identify all relevant cases.\n",
    "\n",
    "*  F1 score gives a combination of Precision and Recall. The F1 score is the harmonic mean of precision and recall. It provides a balanced measure of a model's performance, especially when precision and recall have an uneven trade-off. In our case, the F1 score is 0.93, indicating a good balance between precision and recall."
   ]
  },
  {
   "cell_type": "markdown",
   "id": "22828e72-69dc-45ae-a52b-ab787174aa16",
   "metadata": {
    "canvas": {
     "comments": [],
     "componentType": "CodeCell",
     "copiedOriginId": null,
     "diskcache": false,
     "headerColor": "transparent",
     "id": "828cfa35-c627-4502-ae90-59e98e2957e3",
     "isComponent": false,
     "name": "",
     "parents": []
    }
   },
   "source": [
    "#### 4.1 ROC ####"
   ]
  },
  {
   "cell_type": "code",
   "execution_count": 45,
   "id": "0a9068e8-4b5b-4c56-b93c-065fdf3bfc72",
   "metadata": {
    "canvas": {
     "comments": [],
     "componentType": "CodeCell",
     "copiedOriginId": null,
     "diskcache": false,
     "headerColor": "transparent",
     "id": "519325f9-1191-4873-a9a3-4064140cd046",
     "isComponent": false,
     "name": "",
     "parents": []
    }
   },
   "outputs": [
    {
     "data": {
      "image/png": "[encoded data removed]",
      "text/plain": [
       "<Figure size 640x480 with 1 Axes>"
      ]
     },
     "metadata": {},
     "output_type": "display_data"
    }
   ],
   "source": [
    "from sklearn.metrics import RocCurveDisplay\n",
    "roc_curve_display = RocCurveDisplay.from_estimator(estimator=clf_3, \n",
    "                                                   X=X_test, \n",
    "                                                   y=y_test)"
   ]
  },
  {
   "cell_type": "markdown",
   "id": "ad471ac5-aa25-40f6-bba4-5f95a118be3e",
   "metadata": {
    "canvas": {
     "comments": [],
     "componentType": "CodeCell",
     "copiedOriginId": null,
     "diskcache": false,
     "headerColor": "transparent",
     "id": "066d05d2-d159-42fe-8958-a75902bd60d2",
     "isComponent": false,
     "name": "",
     "parents": []
    }
   },
   "source": [
    "In a Receiver Operating Characteristic (ROC) curve, the Area Under the Curve (AUC) is a metric that quantifies the model's ability to distinguish between positive and negative classes. \n",
    "\n",
    "The AUC value ranges from 0 to 1.\n",
    "\n",
    "Generally, AUC = 0.5 indicates a model that performs no better than random chances.\n",
    "\n",
    "AUC > 0.5 suggests a better-than-random model, with higher values indicating better perforance\n",
    "\n",
    "In our case, where AUC = 0.99, it indicate that our model has a reasonably good ability to discriminate between the positive and negative class. task."
   ]
  },
  {
   "cell_type": "markdown",
   "id": "38ef0748-75c4-4436-a603-765791c39282",
   "metadata": {
    "canvas": {
     "comments": [],
     "componentType": "CodeCell",
     "copiedOriginId": null,
     "diskcache": false,
     "headerColor": "transparent",
     "id": "0bad2915-2ae8-429d-a92f-08827c73843b",
     "isComponent": false,
     "name": "",
     "parents": []
    }
   },
   "source": [
    "#### 4.2 Confusion Matrics ####"
   ]
  },
  {
   "cell_type": "code",
   "execution_count": 46,
   "id": "464cceb1-dd80-4260-af85-25050f9aead1",
   "metadata": {
    "canvas": {
     "comments": [],
     "componentType": "CodeCell",
     "copiedOriginId": null,
     "diskcache": false,
     "headerColor": "transparent",
     "id": "cfbc0739-fa07-42ba-a31d-6459e4fb8247",
     "isComponent": false,
     "name": "",
     "parents": []
    }
   },
   "outputs": [
    {
     "data": {
      "text/plain": [
       "array([[153,   5],\n",
       "       [  9,  91]], dtype=int64)"
      ]
     },
     "execution_count": 46,
     "metadata": {},
     "output_type": "execute_result"
    }
   ],
   "source": [
    "from sklearn.metrics import confusion_matrix\n",
    "\n",
    "y_preds = clf_3.predict(X_test)\n",
    "\n",
    "confusion_matrix(y_test, y_preds)"
   ]
  },
  {
   "cell_type": "code",
   "execution_count": 47,
   "id": "91e254b3-c2e3-4bc2-8127-3a66adae580d",
   "metadata": {
    "canvas": {
     "comments": [],
     "componentType": "CodeCell",
     "copiedOriginId": null,
     "diskcache": false,
     "headerColor": "transparent",
     "id": "dd4611df-0038-443f-bb2e-98c7ef06773f",
     "isComponent": false,
     "name": "",
     "parents": []
    }
   },
   "outputs": [
    {
     "data": {
      "image/png": "[encoded data removed]",
      "text/plain": [
       "<Figure size 640x480 with 2 Axes>"
      ]
     },
     "metadata": {},
     "output_type": "display_data"
    }
   ],
   "source": [
    "from sklearn.metrics import ConfusionMatrixDisplay\n",
    "\n",
    "ConfusionMatrixDisplay.from_predictions(y_true=y_test, \n",
    "                                        y_pred=y_preds);"
   ]
  },
  {
   "cell_type": "markdown",
   "id": "597bb60a-4da2-4882-bc41-4614907eb37c",
   "metadata": {
    "canvas": {
     "comments": [],
     "componentType": "CodeCell",
     "copiedOriginId": null,
     "diskcache": false,
     "headerColor": "transparent",
     "id": "1e2b0b52-43ef-4806-8cb2-163e83553f7a",
     "isComponent": false,
     "name": "",
     "parents": []
    }
   },
   "source": [
    "True Positive (TP): 153  (Machine operational and predicted as operational)\n",
    "\n",
    "True Negative (TN): 91   (Machine Failed and predicted as Failed)\n",
    "\n",
    "False Positive (FP): 9   (Machine Failed but predicted as operational)\n",
    "\n",
    "False Negative (FN): 5   (Machine operational but predicted as Failed)\n",
    "\n",
    "So, in more detail:\n",
    "\n",
    "True Positive (TP): The model correctly predicted 153 instances Machine as operational.\n",
    "\n",
    "True Negative (TN): The model correctly predicted 91 instances as Machine failure.\n",
    "\n",
    "False Positive (FP): The model incorrectly predicted 9 instances as operational when they were actually failed.\n",
    "\n",
    "False Negative (FN): The model incorrectly predicted 5 instances as machine failure when they were actually operational."
   ]
  },
  {
   "cell_type": "markdown",
   "id": "ccb34c11-1ce2-4361-9e9e-272e9b0ba0f0",
   "metadata": {
    "canvas": {
     "comments": [],
     "componentType": "CodeCell",
     "copiedOriginId": null,
     "diskcache": false,
     "headerColor": "transparent",
     "id": "66741901-4888-427d-acc3-e35a4245db60",
     "isComponent": false,
     "name": "",
     "parents": []
    }
   },
   "source": [
    "#### 4.3 Classification Report ####"
   ]
  },
  {
   "cell_type": "code",
   "execution_count": 48,
   "id": "f58b7419-aa70-446b-8c10-aac926b4cd8e",
   "metadata": {
    "canvas": {
     "comments": [],
     "componentType": "CodeCell",
     "copiedOriginId": null,
     "diskcache": false,
     "headerColor": "transparent",
     "id": "48e293ed-5fae-4faa-89dd-b7ca0403e88c",
     "isComponent": false,
     "name": "",
     "parents": []
    }
   },
   "outputs": [
    {
     "name": "stdout",
     "output_type": "stream",
     "text": [
      "              precision    recall  f1-score   support\n",
      "\n",
      "           0       0.94      0.97      0.96       158\n",
      "           1       0.95      0.91      0.93       100\n",
      "\n",
      "    accuracy                           0.95       258\n",
      "   macro avg       0.95      0.94      0.94       258\n",
      "weighted avg       0.95      0.95      0.95       258\n",
      "\n"
     ]
    }
   ],
   "source": [
    "from sklearn.metrics import classification_report\n",
    "\n",
    "print(classification_report(y_test, y_preds))"
   ]
  },
  {
   "attachments": {
    "167a9128-9cac-46be-9530-70305b96190f.JPG": {
     "image/jpeg": "[encoded data removed]"
    }
   },
   "cell_type": "markdown",
   "id": "72933802-58e6-4250-b273-68b6abef95e8",
   "metadata": {
    "canvas": {
     "comments": [],
     "componentType": "CodeCell",
     "copiedOriginId": null,
     "diskcache": false,
     "headerColor": "transparent",
     "id": "4847bd49-a871-4151-9ec0-08d15e2bcc4b",
     "isComponent": false,
     "name": "",
     "parents": []
    }
   },
   "source": [
    "![Capture.JPG](attachment:167a9128-9cac-46be-9530-70305b96190f.JPG)"
   ]
  },
  {
   "cell_type": "markdown",
   "id": "84771289-4c48-4f98-8efb-56b3149a3d46",
   "metadata": {
    "canvas": {
     "comments": [],
     "componentType": "CodeCell",
     "copiedOriginId": null,
     "diskcache": false,
     "headerColor": "transparent",
     "id": "c4d2785e-cc63-4e5b-961d-324e9db27fd9",
     "isComponent": false,
     "name": "",
     "parents": []
    }
   },
   "source": [
    "Since there is a class imbalance to some extent so between 0 and 1 entries, hence the values of Precision and Recall is more important as compared to accuracy.\n",
    "\n",
    "since FP are more worst then FN, we should aim towards improving the recall value."
   ]
  },
  {
   "cell_type": "markdown",
   "id": "d56c1e24-1e5d-44f9-81e5-393991868ec5",
   "metadata": {
    "canvas": {
     "comments": [],
     "componentType": "CodeCell",
     "copiedOriginId": null,
     "diskcache": false,
     "headerColor": "transparent",
     "id": "527894d3-4fbd-4b11-8e90-c47cb0c5ccd8",
     "isComponent": false,
     "name": "",
     "parents": []
    }
   },
   "source": [
    "#### 4.3 Scoring Parameter - cross_val_score ####"
   ]
  },
  {
   "cell_type": "code",
   "execution_count": 49,
   "id": "82ec892d-cb6a-434a-8683-c11ecab028c5",
   "metadata": {
    "canvas": {
     "comments": [],
     "componentType": "CodeCell",
     "copiedOriginId": null,
     "diskcache": false,
     "headerColor": "transparent",
     "id": "00313c88-e393-4897-a29d-3c2fdf0d630a",
     "isComponent": false,
     "name": "",
     "parents": []
    }
   },
   "outputs": [
    {
     "data": {
      "text/plain": [
       "array([0.88953488, 0.9127907 , 0.93604651, 0.95906433, 0.81871345])"
      ]
     },
     "execution_count": 49,
     "metadata": {},
     "output_type": "execute_result"
    }
   ],
   "source": [
    "from sklearn.model_selection import cross_val_score\n",
    "import numpy as np\n",
    "np.random.seed(42)\n",
    "cv_acc = cross_val_score(clf_3, X, y, cv=5)  # default is accuracy\n",
    "cv_acc"
   ]
  },
  {
   "cell_type": "code",
   "execution_count": 50,
   "id": "0bf049e2-685f-4e63-91eb-f3bf02542072",
   "metadata": {
    "canvas": {
     "comments": [],
     "componentType": "CodeCell",
     "copiedOriginId": null,
     "diskcache": false,
     "headerColor": "transparent",
     "id": "54b6ad2b-ea6e-4c8a-afff-3f32de835034",
     "isComponent": false,
     "name": "",
     "parents": []
    }
   },
   "outputs": [
    {
     "name": "stdout",
     "output_type": "stream",
     "text": [
      "The cross-validated accuracy is: 90.32%\n"
     ]
    }
   ],
   "source": [
    "print(f\"The cross-validated accuracy is: {np.mean(cv_acc)*100:.2f}%\")"
   ]
  },
  {
   "cell_type": "code",
   "execution_count": 51,
   "id": "646ffff2-18e9-4b81-89c1-51b9351a47a8",
   "metadata": {
    "canvas": {
     "comments": [],
     "componentType": "CodeCell",
     "copiedOriginId": null,
     "diskcache": false,
     "headerColor": "transparent",
     "id": "860587c8-c87c-4d8d-a346-bcdf1b8044f5",
     "isComponent": false,
     "name": "",
     "parents": []
    }
   },
   "outputs": [
    {
     "name": "stdout",
     "output_type": "stream",
     "text": [
      "The cross-validated accuracy is: 90.32%\n"
     ]
    }
   ],
   "source": [
    "cv_acc = cross_val_score(clf_3, X, y, cv=5, scoring=\"accuracy\")\n",
    "print(f\"The cross-validated accuracy is: {np.mean(cv_acc)*100:.2f}%\")"
   ]
  },
  {
   "cell_type": "code",
   "execution_count": 52,
   "id": "f6075cd0-f398-4172-8da2-ae05821edb09",
   "metadata": {
    "canvas": {
     "comments": [],
     "componentType": "CodeCell",
     "copiedOriginId": null,
     "diskcache": false,
     "headerColor": "transparent",
     "id": "12b0399b-caf1-4c63-a472-fb5634155cf3",
     "isComponent": false,
     "name": "",
     "parents": []
    }
   },
   "outputs": [
    {
     "name": "stdout",
     "output_type": "stream",
     "text": [
      "The cross-validated precision is: 91.91%\n"
     ]
    }
   ],
   "source": [
    "np.random.seed(42)\n",
    "cv_precision = cross_val_score(clf_3, X, y, cv=5, scoring=\"precision\")\n",
    "print(f\"The cross-validated precision is: {np.mean(cv_precision)*100:.2f}%\")"
   ]
  },
  {
   "cell_type": "code",
   "execution_count": 53,
   "id": "a235c34f-9fe2-439b-86e2-a5035a64be80",
   "metadata": {
    "canvas": {
     "comments": [],
     "componentType": "CodeCell",
     "copiedOriginId": null,
     "diskcache": false,
     "headerColor": "transparent",
     "id": "e82cda3d-9efb-4724-822b-f11e5dade964",
     "isComponent": false,
     "name": "",
     "parents": []
    }
   },
   "outputs": [
    {
     "name": "stdout",
     "output_type": "stream",
     "text": [
      "The cross-validated recall is: 82.39%\n"
     ]
    }
   ],
   "source": [
    "np.random.seed(42)\n",
    "cv_recall = cross_val_score(clf_3, X, y, cv=5, scoring=\"recall\")\n",
    "print(f\"The cross-validated recall is: {np.mean(cv_recall)*100:.2f}%\")"
   ]
  },
  {
   "cell_type": "code",
   "execution_count": 54,
   "id": "64ea7c85-00ff-425d-826e-65c74c8910b9",
   "metadata": {
    "canvas": {
     "comments": [],
     "componentType": "CodeCell",
     "copiedOriginId": null,
     "diskcache": false,
     "headerColor": "transparent",
     "id": "377709c5-abee-42b2-986d-990eb2ae5001",
     "isComponent": false,
     "name": "",
     "parents": []
    }
   },
   "outputs": [
    {
     "name": "stdout",
     "output_type": "stream",
     "text": [
      "The cross-validated F1 score is: 86.81%\n"
     ]
    }
   ],
   "source": [
    "np.random.seed(42)\n",
    "cv_f1 = cross_val_score(clf_3, X, y, cv=5, scoring=\"f1\")\n",
    "print(f\"The cross-validated F1 score is: {np.mean(cv_f1)*100:.2f}%\")"
   ]
  },
  {
   "cell_type": "markdown",
   "id": "8f39b7f3-1e4a-431d-bc48-fd5f7f95002e",
   "metadata": {
    "canvas": {
     "comments": [],
     "componentType": "CodeCell",
     "copiedOriginId": null,
     "diskcache": false,
     "headerColor": "transparent",
     "id": "6e35f63f-ea8d-46f3-b0fe-a0b72d55c003",
     "isComponent": false,
     "name": "",
     "parents": []
    }
   },
   "source": [
    "> the cross val scores are more generalized and considered better represetation of the model evaluation as compared on only one split data set\n",
    "> It is the generalized representation of the complete model"
   ]
  },
  {
   "cell_type": "markdown",
   "id": "30c05ac1-9829-4f32-8b19-e2281cfe9427",
   "metadata": {
    "canvas": {
     "comments": [],
     "componentType": "CodeCell",
     "copiedOriginId": null,
     "diskcache": false,
     "headerColor": "transparent",
     "id": "f33d9890-e728-468c-9447-87bb2047147a",
     "isComponent": false,
     "name": "",
     "parents": []
    }
   },
   "source": [
    "# 5. Experimentation #"
   ]
  },
  {
   "cell_type": "markdown",
   "id": "7b363e4b-2aed-44dd-a878-a5b0e51d834f",
   "metadata": {
    "canvas": {
     "comments": [],
     "componentType": "CodeCell",
     "copiedOriginId": null,
     "diskcache": false,
     "headerColor": "transparent",
     "id": "de5fdb73-6bdb-4c6b-a06b-07bcfac0aa5d",
     "isComponent": false,
     "name": "",
     "parents": []
    }
   },
   "source": [
    "## Hyperparameter tunning ##"
   ]
  },
  {
   "cell_type": "markdown",
   "id": "9baa0d76-7677-485d-8157-4ae76d2004b3",
   "metadata": {
    "canvas": {
     "comments": [],
     "componentType": "CodeCell",
     "copiedOriginId": null,
     "diskcache": false,
     "headerColor": "transparent",
     "id": "0e007c25-beb2-46c6-8188-e06c47287242",
     "isComponent": false,
     "name": "",
     "parents": []
    }
   },
   "source": [
    ">Paterns in data are also refered as paramters which our model automatically finds.\n",
    ">Hyperparameters are the model setting which we tune ourself to get best performance.\n",
    ">Since we have selected the SVC model, we hypertune our model to improve the predictions"
   ]
  },
  {
   "cell_type": "markdown",
   "id": "f6535579-734b-4059-9f47-3111f5b08fc5",
   "metadata": {
    "canvas": {
     "comments": [],
     "componentType": "CodeCell",
     "copiedOriginId": null,
     "diskcache": false,
     "headerColor": "transparent",
     "id": "222f7468-a568-4aad-8feb-570c100edfcb",
     "isComponent": false,
     "name": "",
     "parents": []
    }
   },
   "source": [
    "#### 5.1 Baseline Model ####"
   ]
  },
  {
   "cell_type": "code",
   "execution_count": 55,
   "id": "f41ef8fc-98ba-49b8-a62e-973e8ee797dc",
   "metadata": {
    "canvas": {
     "comments": [],
     "componentType": "CodeCell",
     "copiedOriginId": null,
     "diskcache": false,
     "headerColor": "transparent",
     "id": "8200c413-be8b-4a49-b16a-283f66094457",
     "isComponent": false,
     "name": "",
     "parents": []
    }
   },
   "outputs": [
    {
     "name": "stdout",
     "output_type": "stream",
     "text": [
      "Acc: 94.57%\n",
      "Precision: 0.95\n",
      "Recall: 0.91\n",
      "F1 score: 0.93\n"
     ]
    },
    {
     "data": {
      "text/plain": [
       "{'accuracy': 0.95, 'precision': 0.95, 'recall': 0.91, 'f1': 0.93}"
      ]
     },
     "execution_count": 55,
     "metadata": {},
     "output_type": "execute_result"
    }
   ],
   "source": [
    "clf_3.fit(X_train, y_train)\n",
    "\n",
    "# Make predictions\n",
    "y_preds = clf_3.predict(X_test)\n",
    "\n",
    "# Evaluate the classifier\n",
    "baseline_metrics = evaluate_preds(y_test, y_preds)\n",
    "baseline_metrics"
   ]
  },
  {
   "cell_type": "markdown",
   "id": "9d9bd89e-1d91-47f7-9376-d6858fe8545c",
   "metadata": {
    "canvas": {
     "comments": [],
     "componentType": "CodeCell",
     "copiedOriginId": null,
     "diskcache": false,
     "headerColor": "transparent",
     "id": "aaaf8e69-8581-4e2a-86eb-0776f15108a6",
     "isComponent": false,
     "name": "",
     "parents": []
    }
   },
   "source": [
    "#### 5.2 RandomizedSearchCV ####"
   ]
  },
  {
   "cell_type": "code",
   "execution_count": 56,
   "id": "a6ae9a76-546f-4500-9fb6-57a28947e31f",
   "metadata": {
    "canvas": {
     "comments": [],
     "componentType": "CodeCell",
     "copiedOriginId": null,
     "diskcache": false,
     "headerColor": "transparent",
     "id": "52a5bf02-127d-49f5-b50d-401689ab4927",
     "isComponent": false,
     "name": "",
     "parents": []
    }
   },
   "outputs": [
    {
     "data": {
      "text/plain": [
       "{'memory': None,\n",
       " 'steps': [('standardscaler', StandardScaler()), ('svc', SVC(gamma='auto'))],\n",
       " 'verbose': False,\n",
       " 'standardscaler': StandardScaler(),\n",
       " 'svc': SVC(gamma='auto'),\n",
       " 'standardscaler__copy': True,\n",
       " 'standardscaler__with_mean': True,\n",
       " 'standardscaler__with_std': True,\n",
       " 'svc__C': 1.0,\n",
       " 'svc__break_ties': False,\n",
       " 'svc__cache_size': 200,\n",
       " 'svc__class_weight': None,\n",
       " 'svc__coef0': 0.0,\n",
       " 'svc__decision_function_shape': 'ovr',\n",
       " 'svc__degree': 3,\n",
       " 'svc__gamma': 'auto',\n",
       " 'svc__kernel': 'rbf',\n",
       " 'svc__max_iter': -1,\n",
       " 'svc__probability': False,\n",
       " 'svc__random_state': None,\n",
       " 'svc__shrinking': True,\n",
       " 'svc__tol': 0.001,\n",
       " 'svc__verbose': False}"
      ]
     },
     "execution_count": 56,
     "metadata": {},
     "output_type": "execute_result"
    }
   ],
   "source": [
    "clf_3.get_params()"
   ]
  },
  {
   "cell_type": "code",
   "execution_count": 57,
   "id": "c8bf0688-d4cf-4714-963f-f285d0e423da",
   "metadata": {
    "canvas": {
     "comments": [],
     "componentType": "CodeCell",
     "copiedOriginId": null,
     "diskcache": false,
     "headerColor": "transparent",
     "id": "1627f792-85ce-4862-b1b6-bffb1be07ec2",
     "isComponent": false,
     "name": "",
     "parents": []
    }
   },
   "outputs": [],
   "source": [
    "param_distributions = {\"svc__gamma\": [\"auto\", \"scale\"],\n",
    "                       \"svc__kernel\": [\"linear\", \"poly\", \"rbf\", \"sigmoid\"],\n",
    "                       \"svc__degree\": [2, 3, 4, 5],\n",
    "                       \"svc__decision_function_shape\": [\"ovo\", \"ovr\"],\n",
    "                       \"svc__tol\": [0.01, 0.001, 0.0001]\n",
    "                       }"
   ]
  },
  {
   "cell_type": "code",
   "execution_count": 58,
   "id": "e884f81d-a20d-49e6-90b6-cfdf98b18be0",
   "metadata": {
    "canvas": {
     "comments": [],
     "componentType": "CodeCell",
     "copiedOriginId": null,
     "diskcache": false,
     "headerColor": "transparent",
     "id": "99858f45-cb5c-46cc-aa08-1fe02dc92390",
     "isComponent": false,
     "name": "",
     "parents": []
    }
   },
   "outputs": [
    {
     "name": "stdout",
     "output_type": "stream",
     "text": [
      "There are 192 potential combinations of hyperparameters to test.\n"
     ]
    }
   ],
   "source": [
    "# Count the total number of hyperparameter combinations to test\n",
    "total_randomized_hyperparameter_combintions_to_test = np.prod([len(value) for value in param_distributions.values()])\n",
    "print(f\"There are {total_randomized_hyperparameter_combintions_to_test} potential combinations of hyperparameters to test.\")"
   ]
  },
  {
   "cell_type": "code",
   "execution_count": 59,
   "id": "b823e580-a4b9-47a1-8a23-17f4a5b152a1",
   "metadata": {
    "canvas": {
     "comments": [],
     "componentType": "CodeCell",
     "copiedOriginId": null,
     "diskcache": false,
     "headerColor": "transparent",
     "id": "1c9d151a-7043-4b10-a5eb-db58990b2bfc",
     "isComponent": false,
     "name": "",
     "parents": []
    }
   },
   "outputs": [
    {
     "name": "stdout",
     "output_type": "stream",
     "text": [
      "Fitting 5 folds for each of 20 candidates, totalling 100 fits\n",
      "[INFO] Total time taken for 20 random combinations of hyperparameters: 1.95 seconds.\n"
     ]
    }
   ],
   "source": [
    "# Start the timer\n",
    "import time\n",
    "start_time = time.time()\n",
    "\n",
    "from sklearn.model_selection import RandomizedSearchCV, train_test_split\n",
    "\n",
    "# Split into train and test sets\n",
    "X_train, X_test, y_train, y_test = train_test_split(X, y, test_size=0.2)\n",
    "\n",
    "np.random.seed(42)\n",
    "# Setup RandomizedSearchCV \n",
    "n_iter = 20 # try 30 models total\n",
    "rs_clf = RandomizedSearchCV(estimator=clf_3,\n",
    "                            param_distributions=param_distributions,\n",
    "                            n_iter=n_iter, \n",
    "                            cv=5, # 5-fold cross-validation\n",
    "                            verbose=1) # print out results\n",
    "\n",
    "# Fit the RandomizedSearchCV version of clf (does cross-validation for us, so no need to use a validation set)\n",
    "rs_clf.fit(X_train, y_train)\n",
    "\n",
    "# Finish the timer\n",
    "end_time = time.time()\n",
    "print(f\"[INFO] Total time taken for {n_iter} random combinations of hyperparameters: {end_time - start_time:.2f} seconds.\")"
   ]
  },
  {
   "cell_type": "code",
   "execution_count": 60,
   "id": "68a5ee77-35fc-4aca-9f86-590d63e842ab",
   "metadata": {
    "canvas": {
     "comments": [],
     "componentType": "CodeCell",
     "copiedOriginId": null,
     "diskcache": false,
     "headerColor": "transparent",
     "id": "2ec0d869-a816-4131-97ed-d8fffb4b6052",
     "isComponent": false,
     "name": "",
     "parents": []
    }
   },
   "outputs": [
    {
     "data": {
      "text/plain": [
       "{'svc__tol': 0.0001,\n",
       " 'svc__kernel': 'rbf',\n",
       " 'svc__gamma': 'scale',\n",
       " 'svc__degree': 4,\n",
       " 'svc__decision_function_shape': 'ovo'}"
      ]
     },
     "execution_count": 60,
     "metadata": {},
     "output_type": "execute_result"
    }
   ],
   "source": [
    "# Find the best hyperparameters found by RandomizedSearchCV\n",
    "rs_clf.best_params_"
   ]
  },
  {
   "cell_type": "code",
   "execution_count": 61,
   "id": "8e644655-2179-468d-b031-6942be7d6f08",
   "metadata": {
    "canvas": {
     "comments": [],
     "componentType": "CodeCell",
     "copiedOriginId": null,
     "diskcache": false,
     "headerColor": "transparent",
     "id": "1b1e3362-b8b7-4fa0-ab68-085d0cf9ad02",
     "isComponent": false,
     "name": "",
     "parents": []
    }
   },
   "outputs": [
    {
     "name": "stdout",
     "output_type": "stream",
     "text": [
      "Acc: 93.02%\n",
      "Precision: 0.91\n",
      "Recall: 0.88\n",
      "F1 score: 0.89\n"
     ]
    }
   ],
   "source": [
    "# Make predictions with the best hyperparameters\n",
    "rs_y_preds = rs_clf.predict(X_test)\n",
    "\n",
    "# Evaluate the predictions\n",
    "rs_metrics = evaluate_preds(y_test, rs_y_preds)"
   ]
  },
  {
   "cell_type": "markdown",
   "id": "1f2cd6ec-bb2d-4e23-b026-3873ceb25c2b",
   "metadata": {
    "canvas": {
     "comments": [],
     "componentType": "CodeCell",
     "copiedOriginId": null,
     "diskcache": false,
     "headerColor": "transparent",
     "id": "f436b5b5-4815-43c1-814e-a2c186f06e7f",
     "isComponent": false,
     "name": "",
     "parents": []
    }
   },
   "source": [
    "#### Great ####\n",
    "* Our accuracy score withouot cross val was = **94%**\n",
    "* with cross_val = **90%**\n",
    "* and now with Randomized Search (using cv=5) we achieved accuracy of **93%**\n",
    "* So our model accuracy has increased alongwith Precision, Recall and F1 score "
   ]
  },
  {
   "cell_type": "code",
   "execution_count": 63,
   "id": "edc10527-8dfa-4b4e-b593-012d56804136",
   "metadata": {
    "canvas": {
     "comments": [],
     "componentType": "CodeCell",
     "copiedOriginId": null,
     "diskcache": false,
     "headerColor": "transparent",
     "id": "5fb1dc27-b5cf-4600-8163-3f21973cf5cd",
     "isComponent": false,
     "name": "",
     "parents": []
    }
   },
   "outputs": [
    {
     "data": {
      "image/png": "[encoded data removed]",
      "text/plain": [
       "<Figure size 640x480 with 1 Axes>"
      ]
     },
     "metadata": {},
     "output_type": "display_data"
    }
   ],
   "source": [
    "from sklearn.metrics import PrecisionRecallDisplay\n",
    "\n",
    "display = PrecisionRecallDisplay.from_estimator(\n",
    "    clf_3, X_test, y_test, name=\"SVC\", plot_chance_level=True)\n",
    "_= display.ax_.set_title(\"2-class Precision-Recall curve\")"
   ]
  },
  {
   "cell_type": "markdown",
   "id": "c5f529bb-6f3d-402c-b483-e499df39c3bd",
   "metadata": {
    "canvas": {
     "comments": [],
     "componentType": "CodeCell",
     "copiedOriginId": null,
     "diskcache": false,
     "headerColor": "transparent",
     "id": "e536ceba-c80a-4a1c-b64e-0e627bf526d0",
     "isComponent": false,
     "name": "",
     "parents": []
    }
   },
   "source": [
    "The precision-recall curve is useful when the cost of false positives and false negatives is different.\n",
    "The curve is important to represent the perfornace of our classifier, which is otherwise showing good performace plot (more towards value 1 or 100%)"
   ]
  },
  {
   "cell_type": "markdown",
   "id": "5f6ac0c3-5558-4392-b601-5fe2be5fef66",
   "metadata": {
    "canvas": {
     "comments": [],
     "componentType": "CodeCell",
     "copiedOriginId": null,
     "diskcache": false,
     "headerColor": "transparent",
     "id": "783337ea-5afc-474a-822b-1dca72d38e90",
     "isComponent": false,
     "name": "",
     "parents": []
    }
   },
   "source": [
    "#### 5.3 GridSearchCV ####"
   ]
  },
  {
   "cell_type": "code",
   "execution_count": 69,
   "id": "a21361dd-36ea-42b3-b31f-b9422510f309",
   "metadata": {
    "canvas": {
     "comments": [],
     "componentType": "CodeCell",
     "copiedOriginId": null,
     "diskcache": false,
     "headerColor": "transparent",
     "id": "d84df0a3-85da-4d98-b717-222d75df7a53",
     "isComponent": false,
     "name": "",
     "parents": []
    }
   },
   "outputs": [],
   "source": [
    "param_grid = {\"svc__tol\": [0.0001, 0.00008, 0.00009, 0.00011],\n",
    "              \"svc__kernel\": ['rbf'],\n",
    "              \"svc__gamma\": ['scale'],\n",
    "              \"svc__degree\": [2,4,5,3],\n",
    "              \"svc__decision_function_shape\": ['ovo']\n",
    "             }"
   ]
  },
  {
   "cell_type": "code",
   "execution_count": 70,
   "id": "64d99a0c-9464-4f18-9017-bae56496ac28",
   "metadata": {
    "canvas": {
     "comments": [],
     "componentType": "CodeCell",
     "copiedOriginId": null,
     "diskcache": false,
     "headerColor": "transparent",
     "id": "0d734992-b64c-41dc-b580-a56d3cef072b",
     "isComponent": false,
     "name": "",
     "parents": []
    }
   },
   "outputs": [
    {
     "name": "stdout",
     "output_type": "stream",
     "text": [
      "There are 16 combinations of hyperparameters to test.\n",
      "This is 12.0 times less than before (previous: 192).\n"
     ]
    }
   ],
   "source": [
    "# Count the total number of hyperparameter combinations to test\n",
    "total_grid_search_hyperparameter_combinations_to_test = np.prod([len(value) for value in param_grid.values()])\n",
    "print(f\"There are {total_grid_search_hyperparameter_combinations_to_test} combinations of hyperparameters to test.\")\n",
    "print(f\"This is {total_randomized_hyperparameter_combintions_to_test/total_grid_search_hyperparameter_combinations_to_test} times less\\\n",
    " than before (previous: {total_randomized_hyperparameter_combintions_to_test}).\")"
   ]
  },
  {
   "cell_type": "code",
   "execution_count": 71,
   "id": "ecc24e52-a52e-4f0a-acb4-4ad631dcc26d",
   "metadata": {
    "canvas": {
     "comments": [],
     "componentType": "CodeCell",
     "copiedOriginId": null,
     "diskcache": false,
     "headerColor": "transparent",
     "id": "86a90e4d-09e7-4a72-a057-1da0975c5382",
     "isComponent": false,
     "name": "",
     "parents": []
    }
   },
   "outputs": [
    {
     "name": "stdout",
     "output_type": "stream",
     "text": [
      "Fitting 5 folds for each of 16 candidates, totalling 80 fits\n"
     ]
    }
   ],
   "source": [
    "# Start the timer\n",
    "import time\n",
    "start_time = time.time()\n",
    "\n",
    "from sklearn.model_selection import GridSearchCV, train_test_split\n",
    "\n",
    "np.random.seed(42)\n",
    "\n",
    "# Setup GridSearchCV\n",
    "gs_clf = GridSearchCV(estimator=clf_3,\n",
    "                      param_grid=param_grid,\n",
    "                      cv=5, # 5-fold cross-validation\n",
    "                      verbose=1) # print out progress\n",
    "\n",
    "# Fit the RandomizedSearchCV version of clf\n",
    "gs_clf.fit(X_train, y_train);\n",
    "\n",
    "# Find the running time\n",
    "end_time = time.time()"
   ]
  },
  {
   "cell_type": "code",
   "execution_count": 72,
   "id": "45a75fbc-1fc5-4e58-8acc-4b56516bf784",
   "metadata": {
    "canvas": {
     "comments": [],
     "componentType": "CodeCell",
     "copiedOriginId": null,
     "diskcache": false,
     "headerColor": "transparent",
     "id": "ecf747ea-1e1e-4621-8c82-7a892c18f6b8",
     "isComponent": false,
     "name": "",
     "parents": []
    }
   },
   "outputs": [
    {
     "data": {
      "text/plain": [
       "{'svc__decision_function_shape': 'ovo',\n",
       " 'svc__degree': 2,\n",
       " 'svc__gamma': 'scale',\n",
       " 'svc__kernel': 'rbf',\n",
       " 'svc__tol': 0.0001}"
      ]
     },
     "execution_count": 72,
     "metadata": {},
     "output_type": "execute_result"
    }
   ],
   "source": [
    "# Check the best hyperparameters found with GridSearchCV\n",
    "gs_clf.best_params_"
   ]
  },
  {
   "cell_type": "code",
   "execution_count": 73,
   "id": "e6c7eedb-83f7-4c14-948a-7196336973d2",
   "metadata": {
    "canvas": {
     "comments": [],
     "componentType": "CodeCell",
     "copiedOriginId": null,
     "diskcache": false,
     "headerColor": "transparent",
     "id": "bbea786f-705a-44e2-94e1-9b9cac00ed1e",
     "isComponent": false,
     "name": "",
     "parents": []
    }
   },
   "outputs": [
    {
     "name": "stdout",
     "output_type": "stream",
     "text": [
      "Acc: 93.02%\n",
      "Precision: 0.91\n",
      "Recall: 0.88\n",
      "F1 score: 0.89\n"
     ]
    },
    {
     "data": {
      "text/plain": [
       "{'accuracy': 0.93, 'precision': 0.91, 'recall': 0.88, 'f1': 0.89}"
      ]
     },
     "execution_count": 73,
     "metadata": {},
     "output_type": "execute_result"
    }
   ],
   "source": [
    "# Max predictions with the GridSearchCV classifier\n",
    "gs_y_preds = gs_clf.predict(X_test)\n",
    "\n",
    "# Evaluate the predictions\n",
    "gs_metrics = evaluate_preds(y_test, gs_y_preds)\n",
    "gs_metrics"
   ]
  },
  {
   "cell_type": "code",
   "execution_count": 74,
   "id": "222280c8-b7b1-4732-aa81-09253dd31e7b",
   "metadata": {
    "canvas": {
     "comments": [],
     "componentType": "CodeCell",
     "copiedOriginId": null,
     "diskcache": false,
     "headerColor": "transparent",
     "id": "717a582a-559d-4f42-b634-a781a030922a",
     "isComponent": false,
     "name": "",
     "parents": []
    }
   },
   "outputs": [
    {
     "data": {
      "image/png": "[encoded data removed]",
      "text/plain": [
       "<Figure size 1000x500 with 1 Axes>"
      ]
     },
     "metadata": {},
     "output_type": "display_data"
    }
   ],
   "source": [
    "compare_metrics = pd.DataFrame({\"baseline\": baseline_metrics,\n",
    "                                \"random search\": rs_metrics,\n",
    "                                \"grid search\": gs_metrics})\n",
    "compare_metrics.plot.bar(figsize=(10, 5));"
   ]
  },
  {
   "cell_type": "markdown",
   "id": "80295ff8-51b3-475d-b80a-e30164bc3158",
   "metadata": {
    "canvas": {
     "comments": [],
     "componentType": "CodeCell",
     "copiedOriginId": null,
     "diskcache": false,
     "headerColor": "transparent",
     "id": "6fa6478a-4e01-4dcb-adae-45b647fda088",
     "isComponent": false,
     "name": "",
     "parents": []
    }
   },
   "source": [
    "* It concludes our **Hyperparameter search**\n",
    "* The basline model performance is on the higher sider because it is not evaluated using cross validation.\n",
    "* Whereas both the randomsearch and GridSearch uses the Cross Val and hence giving a more generalized performace of the model "
   ]
  },
  {
   "cell_type": "markdown",
   "id": "ff05b970-53d3-4c5d-9ffc-e3b4deb2a470",
   "metadata": {
    "canvas": {
     "comments": [],
     "componentType": "CodeCell",
     "copiedOriginId": null,
     "diskcache": false,
     "headerColor": "transparent",
     "id": "53e92fce-4e25-4d79-b8ba-a80eade845e3",
     "isComponent": false,
     "name": "",
     "parents": []
    }
   },
   "source": [
    "# 6. Deployment #"
   ]
  },
  {
   "cell_type": "code",
   "execution_count": 78,
   "id": "ff8be0d6-a95f-4126-aa64-574f1f4173fd",
   "metadata": {
    "canvas": {
     "comments": [],
     "componentType": "CodeCell",
     "copiedOriginId": null,
     "diskcache": false,
     "headerColor": "transparent",
     "id": "8a04ad23-5b23-44b2-ad48-cc70db85010e",
     "isComponent": false,
     "name": "",
     "parents": []
    }
   },
   "outputs": [
    {
     "data": {
      "text/plain": [
       "['gs_SVC_Faheem.joblib']"
      ]
     },
     "execution_count": 78,
     "metadata": {},
     "output_type": "execute_result"
    }
   ],
   "source": [
    "from joblib import dump, load\n",
    "\n",
    "# Save a model to file\n",
    "Machine_Failure_Joblib = \"gs_SVC_Faheem.joblib\"\n",
    "dump(gs_clf, filename=Machine_Failure_Joblib) "
   ]
  }
 ],
 "metadata": {
  "canvas": {
   "colorPalette": [
    "inherit",
    "inherit",
    "inherit",
    "inherit",
    "inherit",
    "inherit",
    "inherit",
    "inherit",
    "inherit",
    "inherit"
   ],
   "parameters": [],
   "version": "1.0"
  },
  "kernelspec": {
   "display_name": "Python 3 (ipykernel)",
   "language": "python",
   "name": "python3"
  },
  "language_info": {
   "codemirror_mode": {
    "name": "ipython",
    "version": 3
   },
   "file_extension": ".py",
   "mimetype": "text/x-python",
   "name": "python",
   "nbconvert_exporter": "python",
   "pygments_lexer": "ipython3",
   "version": "3.9.13"
  },
  "toc-autonumbering": false,
  "toc-showcode": true,
  "toc-showmarkdowntxt": true,
  "toc-showtags": false
 },
 "nbformat": 4,
 "nbformat_minor": 5
}
